{
 "cells": [
  {
   "cell_type": "code",
   "execution_count": 16,
   "metadata": {},
   "outputs": [],
   "source": [
    "# Based on code at: https://machinelearningmastery.com/how-to-one-hot-encode-sequence-data-in-python/"
   ]
  },
  {
   "cell_type": "code",
   "execution_count": 17,
   "metadata": {},
   "outputs": [],
   "source": [
    "# Bit vector encoded\n",
    "def do_integer_encoding(data):\n",
    "    # define universe of possible input values\n",
    "    alphabet = 'abcdefghijklmnopqrstuvwxyz .'\n",
    "    # define a mapping of chars to integers\n",
    "    char_to_int = dict((c, i) for i, c in enumerate(alphabet))\n",
    "    int_to_char = dict((i, c) for i, c in enumerate(alphabet))\n",
    "    # integer encoded input data\n",
    "    integer_encoded = [char_to_int[char] for char in data]\n",
    "    return integer_encoded"
   ]
  },
  {
   "cell_type": "code",
   "execution_count": 18,
   "metadata": {},
   "outputs": [
    {
     "name": "stdout",
     "output_type": "stream",
     "text": [
      "data = hello world, enc = [7, 4, 11, 11, 14, 26, 22, 14, 17, 11, 3]\n"
     ]
    }
   ],
   "source": [
    "small_data = \"hello world\"\n",
    "enc = do_integer_encoding(small_data)\n",
    "print (\"data = \" + small_data + \", enc = \" + str(enc))"
   ]
  },
  {
   "cell_type": "code",
   "execution_count": 19,
   "metadata": {},
   "outputs": [
    {
     "name": "stdout",
     "output_type": "stream",
     "text": [
      "data = This is an important document. It contains the contract governing your deposit relationship with the Bank and required legal disclosures. Please have it translated. , enc = [19, 7, 8, 18, 26, 8, 18, 26, 0, 13, 26, 8, 12, 15, 14, 17, 19, 0, 13, 19, 26, 3, 14, 2, 20, 12, 4, 13, 19, 27, 26, 8, 19, 26, 2, 14, 13, 19, 0, 8, 13, 18, 26, 19, 7, 4, 26, 2, 14, 13, 19, 17, 0, 2, 19, 26, 6, 14, 21, 4, 17, 13, 8, 13, 6, 26, 24, 14, 20, 17, 26, 3, 4, 15, 14, 18, 8, 19, 26, 17, 4, 11, 0, 19, 8, 14, 13, 18, 7, 8, 15, 26, 22, 8, 19, 7, 26, 19, 7, 4, 26, 1, 0, 13, 10, 26, 0, 13, 3, 26, 17, 4, 16, 20, 8, 17, 4, 3, 26, 11, 4, 6, 0, 11, 26, 3, 8, 18, 2, 11, 14, 18, 20, 17, 4, 18, 27, 26, 15, 11, 4, 0, 18, 4, 26, 7, 0, 21, 4, 26, 8, 19, 26, 19, 17, 0, 13, 18, 11, 0, 19, 4, 3, 27, 26]\n"
     ]
    }
   ],
   "source": [
    "# Incorrect vectors - lowecases and uppercase\n",
    "medium_data = \"This is an important document. It contains the contract governing \\\n",
    "your deposit relationship with the Bank and required legal \\\n",
    "disclosures. Please have it translated. \"\n",
    "enc = do_integer_encoding(medium_data.lower())\n",
    "print (\"data = \" + medium_data + \", enc = \" + str(enc))"
   ]
  },
  {
   "cell_type": "code",
   "execution_count": 22,
   "metadata": {},
   "outputs": [
    {
     "name": "stdout",
     "output_type": "stream",
     "text": [
      "['This' 'is' 'an' 'important' 'document' '.' 'It' 'contains' 'the'\n",
      " 'contract' 'governing' 'your' 'deposit' 'relationship' 'with' 'the'\n",
      " 'Bank' 'and' 'required' 'legal' 'disclosures' '.' 'Please' 'have' 'it'\n",
      " 'translated' '.']\n"
     ]
    }
   ],
   "source": [
    "# Tokenize larger data for ease\n",
    "import spacy\n",
    "nlp = spacy.load('en_core_web_sm')\n",
    "doc = nlp(medium_data)\n",
    "values = array([token.text for token in doc])\n",
    "print (values)"
   ]
  },
  {
   "cell_type": "code",
   "execution_count": 23,
   "metadata": {},
   "outputs": [],
   "source": [
    "# Scikit encoding\n",
    "from numpy import array\n",
    "from numpy import argmax\n",
    "from sklearn.preprocessing import LabelEncoder\n",
    "from sklearn.preprocessing import OneHotEncoder"
   ]
  },
  {
   "cell_type": "code",
   "execution_count": 24,
   "metadata": {},
   "outputs": [
    {
     "name": "stdout",
     "output_type": "stream",
     "text": [
      "[ 4 15  5 14 11  0  2  7 20  8 12 23  9 18 22 20  1  6 19 17 10  0  3 13\n",
      " 16 21  0]\n"
     ]
    }
   ],
   "source": [
    "# integer encode\n",
    "label_encoder = LabelEncoder()\n",
    "integer_encoded = label_encoder.fit_transform(values)\n",
    "print(integer_encoded)"
   ]
  },
  {
   "cell_type": "code",
   "execution_count": 25,
   "metadata": {},
   "outputs": [
    {
     "name": "stdout",
     "output_type": "stream",
     "text": [
      "['This' 'is' 'an' 'important' 'document' '.' 'It' 'contains' 'the'\n",
      " 'contract' 'governing' 'your' 'deposit' 'relationship' 'with' 'the'\n",
      " 'Bank' 'and' 'required' 'legal' 'disclosures' '.' 'Please' 'have' 'it'\n",
      " 'translated' '.']\n"
     ]
    }
   ],
   "source": [
    "# integer decode\n",
    "inverted = label_encoder.inverse_transform(integer_encoded)\n",
    "print(inverted)"
   ]
  },
  {
   "cell_type": "code",
   "execution_count": 26,
   "metadata": {},
   "outputs": [
    {
     "name": "stdout",
     "output_type": "stream",
     "text": [
      "[[0. 0. 0. 0. 1. 0. 0. 0. 0. 0. 0. 0. 0. 0. 0. 0. 0. 0. 0. 0. 0. 0. 0. 0.]\n",
      " [0. 0. 0. 0. 0. 0. 0. 0. 0. 0. 0. 0. 0. 0. 0. 1. 0. 0. 0. 0. 0. 0. 0. 0.]\n",
      " [0. 0. 0. 0. 0. 1. 0. 0. 0. 0. 0. 0. 0. 0. 0. 0. 0. 0. 0. 0. 0. 0. 0. 0.]\n",
      " [0. 0. 0. 0. 0. 0. 0. 0. 0. 0. 0. 0. 0. 0. 1. 0. 0. 0. 0. 0. 0. 0. 0. 0.]\n",
      " [0. 0. 0. 0. 0. 0. 0. 0. 0. 0. 0. 1. 0. 0. 0. 0. 0. 0. 0. 0. 0. 0. 0. 0.]\n",
      " [1. 0. 0. 0. 0. 0. 0. 0. 0. 0. 0. 0. 0. 0. 0. 0. 0. 0. 0. 0. 0. 0. 0. 0.]\n",
      " [0. 0. 1. 0. 0. 0. 0. 0. 0. 0. 0. 0. 0. 0. 0. 0. 0. 0. 0. 0. 0. 0. 0. 0.]\n",
      " [0. 0. 0. 0. 0. 0. 0. 1. 0. 0. 0. 0. 0. 0. 0. 0. 0. 0. 0. 0. 0. 0. 0. 0.]\n",
      " [0. 0. 0. 0. 0. 0. 0. 0. 0. 0. 0. 0. 0. 0. 0. 0. 0. 0. 0. 0. 1. 0. 0. 0.]\n",
      " [0. 0. 0. 0. 0. 0. 0. 0. 1. 0. 0. 0. 0. 0. 0. 0. 0. 0. 0. 0. 0. 0. 0. 0.]\n",
      " [0. 0. 0. 0. 0. 0. 0. 0. 0. 0. 0. 0. 1. 0. 0. 0. 0. 0. 0. 0. 0. 0. 0. 0.]\n",
      " [0. 0. 0. 0. 0. 0. 0. 0. 0. 0. 0. 0. 0. 0. 0. 0. 0. 0. 0. 0. 0. 0. 0. 1.]\n",
      " [0. 0. 0. 0. 0. 0. 0. 0. 0. 1. 0. 0. 0. 0. 0. 0. 0. 0. 0. 0. 0. 0. 0. 0.]\n",
      " [0. 0. 0. 0. 0. 0. 0. 0. 0. 0. 0. 0. 0. 0. 0. 0. 0. 0. 1. 0. 0. 0. 0. 0.]\n",
      " [0. 0. 0. 0. 0. 0. 0. 0. 0. 0. 0. 0. 0. 0. 0. 0. 0. 0. 0. 0. 0. 0. 1. 0.]\n",
      " [0. 0. 0. 0. 0. 0. 0. 0. 0. 0. 0. 0. 0. 0. 0. 0. 0. 0. 0. 0. 1. 0. 0. 0.]\n",
      " [0. 1. 0. 0. 0. 0. 0. 0. 0. 0. 0. 0. 0. 0. 0. 0. 0. 0. 0. 0. 0. 0. 0. 0.]\n",
      " [0. 0. 0. 0. 0. 0. 1. 0. 0. 0. 0. 0. 0. 0. 0. 0. 0. 0. 0. 0. 0. 0. 0. 0.]\n",
      " [0. 0. 0. 0. 0. 0. 0. 0. 0. 0. 0. 0. 0. 0. 0. 0. 0. 0. 0. 1. 0. 0. 0. 0.]\n",
      " [0. 0. 0. 0. 0. 0. 0. 0. 0. 0. 0. 0. 0. 0. 0. 0. 0. 1. 0. 0. 0. 0. 0. 0.]\n",
      " [0. 0. 0. 0. 0. 0. 0. 0. 0. 0. 1. 0. 0. 0. 0. 0. 0. 0. 0. 0. 0. 0. 0. 0.]\n",
      " [1. 0. 0. 0. 0. 0. 0. 0. 0. 0. 0. 0. 0. 0. 0. 0. 0. 0. 0. 0. 0. 0. 0. 0.]\n",
      " [0. 0. 0. 1. 0. 0. 0. 0. 0. 0. 0. 0. 0. 0. 0. 0. 0. 0. 0. 0. 0. 0. 0. 0.]\n",
      " [0. 0. 0. 0. 0. 0. 0. 0. 0. 0. 0. 0. 0. 1. 0. 0. 0. 0. 0. 0. 0. 0. 0. 0.]\n",
      " [0. 0. 0. 0. 0. 0. 0. 0. 0. 0. 0. 0. 0. 0. 0. 0. 1. 0. 0. 0. 0. 0. 0. 0.]\n",
      " [0. 0. 0. 0. 0. 0. 0. 0. 0. 0. 0. 0. 0. 0. 0. 0. 0. 0. 0. 0. 0. 1. 0. 0.]\n",
      " [1. 0. 0. 0. 0. 0. 0. 0. 0. 0. 0. 0. 0. 0. 0. 0. 0. 0. 0. 0. 0. 0. 0. 0.]]\n"
     ]
    }
   ],
   "source": [
    "# binary encode .. OneHot\n",
    "onehot_encoder = OneHotEncoder(sparse=False)\n",
    "integer_encoded = integer_encoded.reshape(len(integer_encoded), 1)\n",
    "onehot_encoded = onehot_encoder.fit_transform(integer_encoded)\n",
    "print(onehot_encoded)"
   ]
  },
  {
   "cell_type": "code",
   "execution_count": 29,
   "metadata": {},
   "outputs": [
    {
     "name": "stdout",
     "output_type": "stream",
     "text": [
      "[[ 4]\n",
      " [15]\n",
      " [ 5]\n",
      " [14]\n",
      " [11]\n",
      " [ 0]\n",
      " [ 2]\n",
      " [ 7]\n",
      " [20]\n",
      " [ 8]\n",
      " [12]\n",
      " [23]\n",
      " [ 9]\n",
      " [18]\n",
      " [22]\n",
      " [20]\n",
      " [ 1]\n",
      " [ 6]\n",
      " [19]\n",
      " [17]\n",
      " [10]\n",
      " [ 0]\n",
      " [ 3]\n",
      " [13]\n",
      " [16]\n",
      " [21]\n",
      " [ 0]]\n"
     ]
    }
   ],
   "source": [
    "# invert OneHot\n",
    "# Documentation: https://scikit-learn.org/stable/modules/generated/sklearn.preprocessing.OneHotEncoder.html\n",
    "inverted = onehot_encoder.inverse_transform(onehot_encoded)\n",
    "print(inverted)"
   ]
  },
  {
   "cell_type": "code",
   "execution_count": null,
   "metadata": {},
   "outputs": [],
   "source": []
  }
 ],
 "metadata": {
  "kernelspec": {
   "display_name": "Python 3",
   "language": "python",
   "name": "python3"
  },
  "language_info": {
   "codemirror_mode": {
    "name": "ipython",
    "version": 3
   },
   "file_extension": ".py",
   "mimetype": "text/x-python",
   "name": "python",
   "nbconvert_exporter": "python",
   "pygments_lexer": "ipython3",
   "version": "3.7.6"
  }
 },
 "nbformat": 4,
 "nbformat_minor": 4
}
