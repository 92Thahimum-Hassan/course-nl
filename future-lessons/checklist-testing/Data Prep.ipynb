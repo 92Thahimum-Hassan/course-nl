{
 "cells": [
  {
   "cell_type": "code",
   "execution_count": 1,
   "metadata": {},
   "outputs": [
    {
     "name": "stdout",
     "output_type": "stream",
     "text": [
      "Requirement already satisfied: checklist in /Users/biplavs/opt/anaconda3/lib/python3.8/site-packages (0.0.9)\n",
      "Requirement already satisfied: ipywidgets>=7.5 in /Users/biplavs/opt/anaconda3/lib/python3.8/site-packages (from checklist) (7.5.1)\n",
      "Requirement already satisfied: dill>=0.3.1 in /Users/biplavs/opt/anaconda3/lib/python3.8/site-packages (from checklist) (0.3.2)\n",
      "Requirement already satisfied: spacy>=2.2 in /Users/biplavs/opt/anaconda3/lib/python3.8/site-packages (from checklist) (2.3.2)\n",
      "Requirement already satisfied: munch>=2.5 in /Users/biplavs/opt/anaconda3/lib/python3.8/site-packages (from checklist) (2.5.0)\n",
      "Requirement already satisfied: jupyter>=1.0 in /Users/biplavs/opt/anaconda3/lib/python3.8/site-packages (from checklist) (1.0.0)\n",
      "Requirement already satisfied: transformers>=2.8 in /Users/biplavs/opt/anaconda3/lib/python3.8/site-packages (from checklist) (3.1.0)\n",
      "Requirement already satisfied: patternfork-nosql in /Users/biplavs/opt/anaconda3/lib/python3.8/site-packages (from checklist) (3.6)\n",
      "Requirement already satisfied: iso-639 in /Users/biplavs/opt/anaconda3/lib/python3.8/site-packages (from checklist) (0.4.5)\n",
      "Requirement already satisfied: numpy>=1.18 in /Users/biplavs/opt/anaconda3/lib/python3.8/site-packages (from checklist) (1.18.5)\n",
      "Requirement already satisfied: widgetsnbextension~=3.5.0 in /Users/biplavs/opt/anaconda3/lib/python3.8/site-packages (from ipywidgets>=7.5->checklist) (3.5.1)\n",
      "Requirement already satisfied: traitlets>=4.3.1 in /Users/biplavs/opt/anaconda3/lib/python3.8/site-packages (from ipywidgets>=7.5->checklist) (4.3.3)\n",
      "Requirement already satisfied: ipython>=4.0.0; python_version >= \"3.3\" in /Users/biplavs/opt/anaconda3/lib/python3.8/site-packages (from ipywidgets>=7.5->checklist) (7.16.1)\n",
      "Requirement already satisfied: nbformat>=4.2.0 in /Users/biplavs/opt/anaconda3/lib/python3.8/site-packages (from ipywidgets>=7.5->checklist) (5.0.7)\n",
      "Requirement already satisfied: ipykernel>=4.5.1 in /Users/biplavs/opt/anaconda3/lib/python3.8/site-packages (from ipywidgets>=7.5->checklist) (5.3.2)\n",
      "Requirement already satisfied: thinc==7.4.1 in /Users/biplavs/opt/anaconda3/lib/python3.8/site-packages (from spacy>=2.2->checklist) (7.4.1)\n",
      "Requirement already satisfied: catalogue<1.1.0,>=0.0.7 in /Users/biplavs/opt/anaconda3/lib/python3.8/site-packages (from spacy>=2.2->checklist) (1.0.0)\n",
      "Requirement already satisfied: blis<0.5.0,>=0.4.0 in /Users/biplavs/opt/anaconda3/lib/python3.8/site-packages (from spacy>=2.2->checklist) (0.4.1)\n",
      "Requirement already satisfied: requests<3.0.0,>=2.13.0 in /Users/biplavs/opt/anaconda3/lib/python3.8/site-packages (from spacy>=2.2->checklist) (2.24.0)\n",
      "Requirement already satisfied: wasabi<1.1.0,>=0.4.0 in /Users/biplavs/opt/anaconda3/lib/python3.8/site-packages (from spacy>=2.2->checklist) (0.8.0)\n",
      "Requirement already satisfied: srsly<1.1.0,>=1.0.2 in /Users/biplavs/opt/anaconda3/lib/python3.8/site-packages (from spacy>=2.2->checklist) (1.0.2)\n",
      "Requirement already satisfied: murmurhash<1.1.0,>=0.28.0 in /Users/biplavs/opt/anaconda3/lib/python3.8/site-packages (from spacy>=2.2->checklist) (1.0.2)\n",
      "Requirement already satisfied: preshed<3.1.0,>=3.0.2 in /Users/biplavs/opt/anaconda3/lib/python3.8/site-packages (from spacy>=2.2->checklist) (3.0.2)\n",
      "Requirement already satisfied: setuptools in /Users/biplavs/opt/anaconda3/lib/python3.8/site-packages (from spacy>=2.2->checklist) (49.2.0.post20200714)\n",
      "Requirement already satisfied: plac<1.2.0,>=0.9.6 in /Users/biplavs/opt/anaconda3/lib/python3.8/site-packages (from spacy>=2.2->checklist) (1.1.3)\n",
      "Requirement already satisfied: tqdm<5.0.0,>=4.38.0 in /Users/biplavs/opt/anaconda3/lib/python3.8/site-packages (from spacy>=2.2->checklist) (4.47.0)\n",
      "Requirement already satisfied: cymem<2.1.0,>=2.0.2 in /Users/biplavs/opt/anaconda3/lib/python3.8/site-packages (from spacy>=2.2->checklist) (2.0.3)\n",
      "Requirement already satisfied: six in /Users/biplavs/opt/anaconda3/lib/python3.8/site-packages (from munch>=2.5->checklist) (1.15.0)\n",
      "Requirement already satisfied: notebook in /Users/biplavs/opt/anaconda3/lib/python3.8/site-packages (from jupyter>=1.0->checklist) (6.0.3)\n",
      "Requirement already satisfied: qtconsole in /Users/biplavs/opt/anaconda3/lib/python3.8/site-packages (from jupyter>=1.0->checklist) (4.7.5)\n",
      "Requirement already satisfied: nbconvert in /Users/biplavs/opt/anaconda3/lib/python3.8/site-packages (from jupyter>=1.0->checklist) (5.6.1)\n",
      "Requirement already satisfied: jupyter-console in /Users/biplavs/opt/anaconda3/lib/python3.8/site-packages (from jupyter>=1.0->checklist) (6.1.0)\n",
      "Requirement already satisfied: regex!=2019.12.17 in /Users/biplavs/opt/anaconda3/lib/python3.8/site-packages (from transformers>=2.8->checklist) (2020.6.8)\n",
      "Requirement already satisfied: filelock in /Users/biplavs/opt/anaconda3/lib/python3.8/site-packages (from transformers>=2.8->checklist) (3.0.12)\n",
      "Requirement already satisfied: packaging in /Users/biplavs/opt/anaconda3/lib/python3.8/site-packages (from transformers>=2.8->checklist) (20.4)\n",
      "Requirement already satisfied: tokenizers==0.8.1.rc2 in /Users/biplavs/opt/anaconda3/lib/python3.8/site-packages (from transformers>=2.8->checklist) (0.8.1rc2)\n",
      "Requirement already satisfied: sentencepiece!=0.1.92 in /Users/biplavs/opt/anaconda3/lib/python3.8/site-packages (from transformers>=2.8->checklist) (0.1.91)\n",
      "Requirement already satisfied: sacremoses in /Users/biplavs/opt/anaconda3/lib/python3.8/site-packages (from transformers>=2.8->checklist) (0.0.43)\n",
      "Requirement already satisfied: lxml in /Users/biplavs/opt/anaconda3/lib/python3.8/site-packages (from patternfork-nosql->checklist) (4.5.2)\n",
      "Requirement already satisfied: python-docx in /Users/biplavs/opt/anaconda3/lib/python3.8/site-packages (from patternfork-nosql->checklist) (0.8.10)\n",
      "Requirement already satisfied: nltk in /Users/biplavs/opt/anaconda3/lib/python3.8/site-packages (from patternfork-nosql->checklist) (3.5)\n",
      "Requirement already satisfied: cherrypy in /Users/biplavs/opt/anaconda3/lib/python3.8/site-packages (from patternfork-nosql->checklist) (18.6.0)\n",
      "Requirement already satisfied: beautifulsoup4 in /Users/biplavs/opt/anaconda3/lib/python3.8/site-packages (from patternfork-nosql->checklist) (4.9.1)\n",
      "Requirement already satisfied: pdfminer.six in /Users/biplavs/opt/anaconda3/lib/python3.8/site-packages (from patternfork-nosql->checklist) (20200726)\n",
      "Requirement already satisfied: backports.csv in /Users/biplavs/opt/anaconda3/lib/python3.8/site-packages (from patternfork-nosql->checklist) (1.0.7)\n",
      "Requirement already satisfied: scipy in /Users/biplavs/opt/anaconda3/lib/python3.8/site-packages (from patternfork-nosql->checklist) (1.5.0)\n",
      "Requirement already satisfied: future in /Users/biplavs/opt/anaconda3/lib/python3.8/site-packages (from patternfork-nosql->checklist) (0.18.2)\n",
      "Requirement already satisfied: feedparser in /Users/biplavs/opt/anaconda3/lib/python3.8/site-packages (from patternfork-nosql->checklist) (5.2.1)\n",
      "Requirement already satisfied: decorator in /Users/biplavs/opt/anaconda3/lib/python3.8/site-packages (from traitlets>=4.3.1->ipywidgets>=7.5->checklist) (4.4.2)\n",
      "Requirement already satisfied: ipython-genutils in /Users/biplavs/opt/anaconda3/lib/python3.8/site-packages (from traitlets>=4.3.1->ipywidgets>=7.5->checklist) (0.2.0)\n",
      "Requirement already satisfied: jedi>=0.10 in /Users/biplavs/opt/anaconda3/lib/python3.8/site-packages (from ipython>=4.0.0; python_version >= \"3.3\"->ipywidgets>=7.5->checklist) (0.17.1)\n",
      "Requirement already satisfied: pickleshare in /Users/biplavs/opt/anaconda3/lib/python3.8/site-packages (from ipython>=4.0.0; python_version >= \"3.3\"->ipywidgets>=7.5->checklist) (0.7.5)\n",
      "Requirement already satisfied: pexpect; sys_platform != \"win32\" in /Users/biplavs/opt/anaconda3/lib/python3.8/site-packages (from ipython>=4.0.0; python_version >= \"3.3\"->ipywidgets>=7.5->checklist) (4.8.0)\n",
      "Requirement already satisfied: appnope; sys_platform == \"darwin\" in /Users/biplavs/opt/anaconda3/lib/python3.8/site-packages (from ipython>=4.0.0; python_version >= \"3.3\"->ipywidgets>=7.5->checklist) (0.1.0)\n",
      "Requirement already satisfied: pygments in /Users/biplavs/opt/anaconda3/lib/python3.8/site-packages (from ipython>=4.0.0; python_version >= \"3.3\"->ipywidgets>=7.5->checklist) (2.6.1)\n",
      "Requirement already satisfied: backcall in /Users/biplavs/opt/anaconda3/lib/python3.8/site-packages (from ipython>=4.0.0; python_version >= \"3.3\"->ipywidgets>=7.5->checklist) (0.2.0)\n",
      "Requirement already satisfied: prompt-toolkit!=3.0.0,!=3.0.1,<3.1.0,>=2.0.0 in /Users/biplavs/opt/anaconda3/lib/python3.8/site-packages (from ipython>=4.0.0; python_version >= \"3.3\"->ipywidgets>=7.5->checklist) (3.0.5)\n",
      "Requirement already satisfied: jsonschema!=2.5.0,>=2.4 in /Users/biplavs/opt/anaconda3/lib/python3.8/site-packages (from nbformat>=4.2.0->ipywidgets>=7.5->checklist) (3.2.0)\n",
      "Requirement already satisfied: jupyter-core in /Users/biplavs/opt/anaconda3/lib/python3.8/site-packages (from nbformat>=4.2.0->ipywidgets>=7.5->checklist) (4.6.3)\n",
      "Requirement already satisfied: jupyter-client in /Users/biplavs/opt/anaconda3/lib/python3.8/site-packages (from ipykernel>=4.5.1->ipywidgets>=7.5->checklist) (6.1.6)\n",
      "Requirement already satisfied: tornado>=4.2 in /Users/biplavs/opt/anaconda3/lib/python3.8/site-packages (from ipykernel>=4.5.1->ipywidgets>=7.5->checklist) (6.0.4)\n",
      "Requirement already satisfied: chardet<4,>=3.0.2 in /Users/biplavs/opt/anaconda3/lib/python3.8/site-packages (from requests<3.0.0,>=2.13.0->spacy>=2.2->checklist) (3.0.4)\n",
      "Requirement already satisfied: urllib3!=1.25.0,!=1.25.1,<1.26,>=1.21.1 in /Users/biplavs/opt/anaconda3/lib/python3.8/site-packages (from requests<3.0.0,>=2.13.0->spacy>=2.2->checklist) (1.25.9)\n"
     ]
    },
    {
     "name": "stdout",
     "output_type": "stream",
     "text": [
      "Requirement already satisfied: certifi>=2017.4.17 in /Users/biplavs/opt/anaconda3/lib/python3.8/site-packages (from requests<3.0.0,>=2.13.0->spacy>=2.2->checklist) (2020.6.20)\n",
      "Requirement already satisfied: idna<3,>=2.5 in /Users/biplavs/opt/anaconda3/lib/python3.8/site-packages (from requests<3.0.0,>=2.13.0->spacy>=2.2->checklist) (2.10)\n",
      "Requirement already satisfied: prometheus-client in /Users/biplavs/opt/anaconda3/lib/python3.8/site-packages (from notebook->jupyter>=1.0->checklist) (0.8.0)\n",
      "Requirement already satisfied: pyzmq>=17 in /Users/biplavs/opt/anaconda3/lib/python3.8/site-packages (from notebook->jupyter>=1.0->checklist) (19.0.1)\n",
      "Requirement already satisfied: jinja2 in /Users/biplavs/opt/anaconda3/lib/python3.8/site-packages (from notebook->jupyter>=1.0->checklist) (2.11.2)\n",
      "Requirement already satisfied: Send2Trash in /Users/biplavs/opt/anaconda3/lib/python3.8/site-packages (from notebook->jupyter>=1.0->checklist) (1.5.0)\n",
      "Requirement already satisfied: terminado>=0.8.1 in /Users/biplavs/opt/anaconda3/lib/python3.8/site-packages (from notebook->jupyter>=1.0->checklist) (0.8.3)\n",
      "Requirement already satisfied: qtpy in /Users/biplavs/opt/anaconda3/lib/python3.8/site-packages (from qtconsole->jupyter>=1.0->checklist) (1.9.0)\n",
      "Requirement already satisfied: mistune<2,>=0.8.1 in /Users/biplavs/opt/anaconda3/lib/python3.8/site-packages (from nbconvert->jupyter>=1.0->checklist) (0.8.4)\n",
      "Requirement already satisfied: bleach in /Users/biplavs/opt/anaconda3/lib/python3.8/site-packages (from nbconvert->jupyter>=1.0->checklist) (3.1.5)\n",
      "Requirement already satisfied: defusedxml in /Users/biplavs/opt/anaconda3/lib/python3.8/site-packages (from nbconvert->jupyter>=1.0->checklist) (0.6.0)\n",
      "Requirement already satisfied: testpath in /Users/biplavs/opt/anaconda3/lib/python3.8/site-packages (from nbconvert->jupyter>=1.0->checklist) (0.4.4)\n",
      "Requirement already satisfied: pandocfilters>=1.4.1 in /Users/biplavs/opt/anaconda3/lib/python3.8/site-packages (from nbconvert->jupyter>=1.0->checklist) (1.4.2)\n",
      "Requirement already satisfied: entrypoints>=0.2.2 in /Users/biplavs/opt/anaconda3/lib/python3.8/site-packages (from nbconvert->jupyter>=1.0->checklist) (0.3)\n",
      "Requirement already satisfied: pyparsing>=2.0.2 in /Users/biplavs/opt/anaconda3/lib/python3.8/site-packages (from packaging->transformers>=2.8->checklist) (2.4.7)\n",
      "Requirement already satisfied: click in /Users/biplavs/opt/anaconda3/lib/python3.8/site-packages (from sacremoses->transformers>=2.8->checklist) (7.1.2)\n",
      "Requirement already satisfied: joblib in /Users/biplavs/opt/anaconda3/lib/python3.8/site-packages (from sacremoses->transformers>=2.8->checklist) (0.16.0)\n",
      "Requirement already satisfied: jaraco.collections in /Users/biplavs/opt/anaconda3/lib/python3.8/site-packages (from cherrypy->patternfork-nosql->checklist) (3.0.0)\n",
      "Requirement already satisfied: more-itertools in /Users/biplavs/opt/anaconda3/lib/python3.8/site-packages (from cherrypy->patternfork-nosql->checklist) (8.4.0)\n",
      "Requirement already satisfied: portend>=2.1.1 in /Users/biplavs/opt/anaconda3/lib/python3.8/site-packages (from cherrypy->patternfork-nosql->checklist) (2.6)\n",
      "Requirement already satisfied: cheroot>=8.2.1 in /Users/biplavs/opt/anaconda3/lib/python3.8/site-packages (from cherrypy->patternfork-nosql->checklist) (8.4.5)\n",
      "Requirement already satisfied: zc.lockfile in /Users/biplavs/opt/anaconda3/lib/python3.8/site-packages (from cherrypy->patternfork-nosql->checklist) (2.0)\n",
      "Requirement already satisfied: soupsieve>1.2 in /Users/biplavs/opt/anaconda3/lib/python3.8/site-packages (from beautifulsoup4->patternfork-nosql->checklist) (2.0.1)\n",
      "Requirement already satisfied: cryptography in /Users/biplavs/opt/anaconda3/lib/python3.8/site-packages (from pdfminer.six->patternfork-nosql->checklist) (2.9.2)\n",
      "Requirement already satisfied: sortedcontainers in /Users/biplavs/opt/anaconda3/lib/python3.8/site-packages (from pdfminer.six->patternfork-nosql->checklist) (2.2.2)\n",
      "Requirement already satisfied: parso<0.8.0,>=0.7.0 in /Users/biplavs/opt/anaconda3/lib/python3.8/site-packages (from jedi>=0.10->ipython>=4.0.0; python_version >= \"3.3\"->ipywidgets>=7.5->checklist) (0.7.0)\n",
      "Requirement already satisfied: ptyprocess>=0.5 in /Users/biplavs/opt/anaconda3/lib/python3.8/site-packages (from pexpect; sys_platform != \"win32\"->ipython>=4.0.0; python_version >= \"3.3\"->ipywidgets>=7.5->checklist) (0.6.0)\n",
      "Requirement already satisfied: wcwidth in /Users/biplavs/opt/anaconda3/lib/python3.8/site-packages (from prompt-toolkit!=3.0.0,!=3.0.1,<3.1.0,>=2.0.0->ipython>=4.0.0; python_version >= \"3.3\"->ipywidgets>=7.5->checklist) (0.2.5)\n",
      "Requirement already satisfied: pyrsistent>=0.14.0 in /Users/biplavs/opt/anaconda3/lib/python3.8/site-packages (from jsonschema!=2.5.0,>=2.4->nbformat>=4.2.0->ipywidgets>=7.5->checklist) (0.16.0)\n",
      "Requirement already satisfied: attrs>=17.4.0 in /Users/biplavs/opt/anaconda3/lib/python3.8/site-packages (from jsonschema!=2.5.0,>=2.4->nbformat>=4.2.0->ipywidgets>=7.5->checklist) (19.3.0)\n",
      "Requirement already satisfied: python-dateutil>=2.1 in /Users/biplavs/opt/anaconda3/lib/python3.8/site-packages (from jupyter-client->ipykernel>=4.5.1->ipywidgets>=7.5->checklist) (2.8.1)\n",
      "Requirement already satisfied: MarkupSafe>=0.23 in /Users/biplavs/opt/anaconda3/lib/python3.8/site-packages (from jinja2->notebook->jupyter>=1.0->checklist) (1.1.1)\n",
      "Requirement already satisfied: webencodings in /Users/biplavs/opt/anaconda3/lib/python3.8/site-packages (from bleach->nbconvert->jupyter>=1.0->checklist) (0.5.1)\n",
      "Requirement already satisfied: jaraco.text in /Users/biplavs/opt/anaconda3/lib/python3.8/site-packages (from jaraco.collections->cherrypy->patternfork-nosql->checklist) (3.2.0)\n",
      "Requirement already satisfied: jaraco.classes in /Users/biplavs/opt/anaconda3/lib/python3.8/site-packages (from jaraco.collections->cherrypy->patternfork-nosql->checklist) (3.1.0)\n",
      "Requirement already satisfied: tempora>=1.8 in /Users/biplavs/opt/anaconda3/lib/python3.8/site-packages (from portend>=2.1.1->cherrypy->patternfork-nosql->checklist) (4.0.0)\n",
      "Requirement already satisfied: jaraco.functools in /Users/biplavs/opt/anaconda3/lib/python3.8/site-packages (from cheroot>=8.2.1->cherrypy->patternfork-nosql->checklist) (3.0.1)\n",
      "Requirement already satisfied: cffi!=1.11.3,>=1.8 in /Users/biplavs/opt/anaconda3/lib/python3.8/site-packages (from cryptography->pdfminer.six->patternfork-nosql->checklist) (1.14.0)\n",
      "Requirement already satisfied: pytz in /Users/biplavs/opt/anaconda3/lib/python3.8/site-packages (from tempora>=1.8->portend>=2.1.1->cherrypy->patternfork-nosql->checklist) (2020.1)\n",
      "Requirement already satisfied: pycparser in /Users/biplavs/opt/anaconda3/lib/python3.8/site-packages (from cffi!=1.11.3,>=1.8->cryptography->pdfminer.six->patternfork-nosql->checklist) (2.20)\n"
     ]
    }
   ],
   "source": [
    "!pip install checklist"
   ]
  },
  {
   "cell_type": "markdown",
   "metadata": {},
   "source": [
    "# Generating Data"
   ]
  },
  {
   "cell_type": "code",
   "execution_count": 2,
   "metadata": {},
   "outputs": [],
   "source": [
    "# Based on tutorial at: https://github.com/marcotcr/checklist/blob/master/notebooks/tutorials/1.%20Generating%20data.ipynb\n",
    "import checklist\n",
    "from checklist.editor import Editor\n",
    "from checklist.perturb import Perturb"
   ]
  },
  {
   "cell_type": "code",
   "execution_count": 3,
   "metadata": {},
   "outputs": [
    {
     "data": {
      "text/plain": [
       "['This is a good movie.',\n",
       " 'This is a great movie.',\n",
       " 'This is a awesome movie.',\n",
       " 'This is a excellent movie.']"
      ]
     },
     "execution_count": 3,
     "metadata": {},
     "output_type": "execute_result"
    }
   ],
   "source": [
    "# Example of editor and template\n",
    "editor = Editor()\n",
    "ret = editor.template('This is a {adj} movie.', adj=['good', 'great', 'awesome', 'excellent'])\n",
    "ret.data"
   ]
  },
  {
   "cell_type": "code",
   "execution_count": 4,
   "metadata": {},
   "outputs": [],
   "source": [
    "# Example of editor and template\n",
    "ret = editor.template({'question': 'Is this a {adj} movie?',\n",
    "                       'context': 'This is a {adj} movie.' },\n",
    "                      labels='No, this is {badj} movie.',\n",
    "                      adj=['good', 'great', 'awesome', 'excellent'],\n",
    "                      badj=['bad', 'not great', 'not awesome', 'not excellent'])"
   ]
  },
  {
   "cell_type": "code",
   "execution_count": 5,
   "metadata": {},
   "outputs": [
    {
     "name": "stdout",
     "output_type": "stream",
     "text": [
      "{'question': 'Is this a good movie?', 'context': 'This is a good movie.'}\n",
      "No, this is bad movie.\n",
      "\n"
     ]
    }
   ],
   "source": [
    "print(ret.data[0])\n",
    "print(ret.labels[0])\n",
    "print()"
   ]
  },
  {
   "cell_type": "code",
   "execution_count": 6,
   "metadata": {},
   "outputs": [
    {
     "name": "stdout",
     "output_type": "stream",
     "text": [
      "['male', 'female', 'first_name', 'first_pronoun', 'last_name', 'country', 'nationality', 'city', 'religion', 'religion_adj', 'sexual_adj', 'country_city', 'male_from', 'female_from', 'last_from']\n"
     ]
    }
   ],
   "source": [
    "# Lexicons usage\n",
    "print(list(editor.lexicons.keys()))"
   ]
  },
  {
   "cell_type": "code",
   "execution_count": 7,
   "metadata": {},
   "outputs": [
    {
     "data": {
      "text/plain": [
       "['Mary is not same as  China',\n",
       " 'Elizabeth is not same as  China',\n",
       " 'Margaret is not same as  China',\n",
       " 'Sarah is not same as  China']"
      ]
     },
     "execution_count": 7,
     "metadata": {},
     "output_type": "execute_result"
    }
   ],
   "source": [
    "ret = editor.template('{female} is not same as  {country}')\n",
    "ret.data[0:4]"
   ]
  },
  {
   "cell_type": "code",
   "execution_count": 8,
   "metadata": {},
   "outputs": [
    {
     "data": {
      "text/plain": [
       "['William is not friends with John',\n",
       " 'James is not friends with John',\n",
       " 'David is not friends with John',\n",
       " 'Robert is not friends with John']"
      ]
     },
     "execution_count": 8,
     "metadata": {},
     "output_type": "execute_result"
    }
   ],
   "source": [
    "ret = editor.template('{male1} is not friends with {male2}', remove_duplicates=True)\n",
    "ret.data[0:4]"
   ]
  },
  {
   "cell_type": "markdown",
   "metadata": {},
   "source": [
    "# Perturbing Data"
   ]
  },
  {
   "cell_type": "code",
   "execution_count": 9,
   "metadata": {},
   "outputs": [],
   "source": [
    "# Based on https://github.com/marcotcr/checklist/blob/master/notebooks/tutorials/2.%20Perturbing%20data.ipynb"
   ]
  },
  {
   "cell_type": "code",
   "execution_count": 10,
   "metadata": {},
   "outputs": [],
   "source": [
    "import re\n",
    "def change_professions(x, *args, **kwargs):\n",
    "    # Returns empty or a list of strings with profesions changed\n",
    "    professions = ['doctor', 'nurse', 'engineer', 'lawyer']\n",
    "    ret = []\n",
    "    for p in professions:\n",
    "        if re.search(r'\\b%s\\b' % p, x):\n",
    "            ret.extend([re.sub(r'\\b%s\\b' % p, p2, x) for p2 in professions if p != p2])\n",
    "    return ret"
   ]
  },
  {
   "cell_type": "code",
   "execution_count": 11,
   "metadata": {},
   "outputs": [],
   "source": [
    "data = ['John is a very smart person, he lives in Ireland.',\n",
    "        'Mark Stewart was born and raised in Chicago',\n",
    "        'Luke Smith has 3 sisters.',\n",
    "        'Ram is not a nurse.',\n",
    "        'Sita is an engineer.',\n",
    "        'My brother Ramesh used to be a lawyer.']"
   ]
  },
  {
   "cell_type": "code",
   "execution_count": 12,
   "metadata": {},
   "outputs": [
    {
     "data": {
      "text/plain": [
       "[['Ram is not a nurse.',\n",
       "  'Ram is not a doctor.',\n",
       "  'Ram is not a engineer.',\n",
       "  'Ram is not a lawyer.'],\n",
       " ['Sita is an engineer.',\n",
       "  'Sita is an doctor.',\n",
       "  'Sita is an nurse.',\n",
       "  'Sita is an lawyer.'],\n",
       " ['My brother Ramesh used to be a lawyer.',\n",
       "  'My brother Ramesh used to be a doctor.',\n",
       "  'My brother Ramesh used to be a nurse.',\n",
       "  'My brother Ramesh used to be a engineer.']]"
      ]
     },
     "execution_count": 12,
     "metadata": {},
     "output_type": "execute_result"
    }
   ],
   "source": [
    "ret = Perturb.perturb(data, change_professions, keep_original=True)\n",
    "ret.data"
   ]
  },
  {
   "cell_type": "code",
   "execution_count": 13,
   "metadata": {},
   "outputs": [],
   "source": [
    "\n",
    "def change_professions_withmeta(x, meta=False, *args, **kwargs):\n",
    "    # Returns empty or a list of strings with profesions changed\n",
    "    professions = ['doctor', 'nurse', 'engineer', 'lawyer']\n",
    "    ret = []\n",
    "    ret_meta = []\n",
    "    for p in professions:\n",
    "        if re.search(r'\\b%s\\b' % p, x):\n",
    "            ret.extend([re.sub(r'\\b%s\\b' % p, p2, x) for p2 in professions if p != p2])\n",
    "            ret_meta.extend([(p, p2) for p2 in professions if p != p2])\n",
    "    if meta:\n",
    "        return ret, ret_meta\n",
    "    else:\n",
    "        return ret"
   ]
  },
  {
   "cell_type": "code",
   "execution_count": 14,
   "metadata": {},
   "outputs": [
    {
     "data": {
      "text/plain": [
       "(['Sita is an doctor.', 'Sita is an nurse.', 'Sita is an lawyer.'],\n",
       " [('engineer', 'doctor'), ('engineer', 'nurse'), ('engineer', 'lawyer')])"
      ]
     },
     "execution_count": 14,
     "metadata": {},
     "output_type": "execute_result"
    }
   ],
   "source": [
    "change_professions_withmeta(data[4], True)"
   ]
  },
  {
   "cell_type": "code",
   "execution_count": 15,
   "metadata": {},
   "outputs": [
    {
     "name": "stdout",
     "output_type": "stream",
     "text": [
      "Data\n",
      "[['Ram is not a nurse.', 'Ram is not a doctor.', 'Ram is not a engineer.', 'Ram is not a lawyer.'], ['Sita is an engineer.', 'Sita is an doctor.', 'Sita is an nurse.', 'Sita is an lawyer.'], ['My brother Ramesh used to be a lawyer.', 'My brother Ramesh used to be a doctor.', 'My brother Ramesh used to be a nurse.', 'My brother Ramesh used to be a engineer.']]\n",
      "Metadata\n",
      "[[None, ('nurse', 'doctor'), ('nurse', 'engineer'), ('nurse', 'lawyer')], [None, ('engineer', 'doctor'), ('engineer', 'nurse'), ('engineer', 'lawyer')], [None, ('lawyer', 'doctor'), ('lawyer', 'nurse'), ('lawyer', 'engineer')]]\n"
     ]
    }
   ],
   "source": [
    "ret = Perturb.perturb(data, change_professions_withmeta, keep_original=True, meta=True)\n",
    "print('Data')\n",
    "print(ret.data)\n",
    "print('Metadata')\n",
    "print(ret.meta)"
   ]
  },
  {
   "cell_type": "code",
   "execution_count": 16,
   "metadata": {},
   "outputs": [
    {
     "name": "stdout",
     "output_type": "stream",
     "text": [
      "Requirement already satisfied: spacy in /Users/biplavs/opt/anaconda3/lib/python3.8/site-packages (2.3.2)\n",
      "Requirement already satisfied: preshed<3.1.0,>=3.0.2 in /Users/biplavs/opt/anaconda3/lib/python3.8/site-packages (from spacy) (3.0.2)\n",
      "Requirement already satisfied: tqdm<5.0.0,>=4.38.0 in /Users/biplavs/opt/anaconda3/lib/python3.8/site-packages (from spacy) (4.47.0)\n",
      "Requirement already satisfied: setuptools in /Users/biplavs/opt/anaconda3/lib/python3.8/site-packages (from spacy) (49.2.0.post20200714)\n",
      "Requirement already satisfied: requests<3.0.0,>=2.13.0 in /Users/biplavs/opt/anaconda3/lib/python3.8/site-packages (from spacy) (2.24.0)\n",
      "Requirement already satisfied: cymem<2.1.0,>=2.0.2 in /Users/biplavs/opt/anaconda3/lib/python3.8/site-packages (from spacy) (2.0.3)\n",
      "Requirement already satisfied: srsly<1.1.0,>=1.0.2 in /Users/biplavs/opt/anaconda3/lib/python3.8/site-packages (from spacy) (1.0.2)\n",
      "Requirement already satisfied: numpy>=1.15.0 in /Users/biplavs/opt/anaconda3/lib/python3.8/site-packages (from spacy) (1.18.5)\n",
      "Requirement already satisfied: wasabi<1.1.0,>=0.4.0 in /Users/biplavs/opt/anaconda3/lib/python3.8/site-packages (from spacy) (0.8.0)\n",
      "Requirement already satisfied: catalogue<1.1.0,>=0.0.7 in /Users/biplavs/opt/anaconda3/lib/python3.8/site-packages (from spacy) (1.0.0)\n",
      "Requirement already satisfied: murmurhash<1.1.0,>=0.28.0 in /Users/biplavs/opt/anaconda3/lib/python3.8/site-packages (from spacy) (1.0.2)\n",
      "Requirement already satisfied: thinc==7.4.1 in /Users/biplavs/opt/anaconda3/lib/python3.8/site-packages (from spacy) (7.4.1)\n",
      "Requirement already satisfied: blis<0.5.0,>=0.4.0 in /Users/biplavs/opt/anaconda3/lib/python3.8/site-packages (from spacy) (0.4.1)\n",
      "Requirement already satisfied: plac<1.2.0,>=0.9.6 in /Users/biplavs/opt/anaconda3/lib/python3.8/site-packages (from spacy) (1.1.3)\n",
      "Requirement already satisfied: certifi>=2017.4.17 in /Users/biplavs/opt/anaconda3/lib/python3.8/site-packages (from requests<3.0.0,>=2.13.0->spacy) (2020.6.20)\n",
      "Requirement already satisfied: chardet<4,>=3.0.2 in /Users/biplavs/opt/anaconda3/lib/python3.8/site-packages (from requests<3.0.0,>=2.13.0->spacy) (3.0.4)\n",
      "Requirement already satisfied: idna<3,>=2.5 in /Users/biplavs/opt/anaconda3/lib/python3.8/site-packages (from requests<3.0.0,>=2.13.0->spacy) (2.10)\n",
      "Requirement already satisfied: urllib3!=1.25.0,!=1.25.1,<1.26,>=1.21.1 in /Users/biplavs/opt/anaconda3/lib/python3.8/site-packages (from requests<3.0.0,>=2.13.0->spacy) (1.25.9)\n"
     ]
    }
   ],
   "source": [
    "!pip install spacy"
   ]
  },
  {
   "cell_type": "code",
   "execution_count": 18,
   "metadata": {},
   "outputs": [],
   "source": [
    "# Data manipulation with Perturb may assume processing with Spacy\n",
    "import spacy\n",
    "nlp = spacy.load(\"en_core_web_sm\")\n",
    "# import en_core_web_sm\n",
    "# nlp = en_core_web_sm.load()"
   ]
  },
  {
   "cell_type": "code",
   "execution_count": 19,
   "metadata": {},
   "outputs": [],
   "source": [
    "pdata = list(nlp.pipe(data))"
   ]
  },
  {
   "cell_type": "code",
   "execution_count": 25,
   "metadata": {},
   "outputs": [
    {
     "data": {
      "text/plain": [
       "[['John is a very smart person, he lives in Ireland.',\n",
       "  'John is a very smart person, he lives in Ireland'],\n",
       " ['Mark Stewart was born and raised in Chicago',\n",
       "  'Mark Stewart was born and raised in Chicago.'],\n",
       " ['Luke Smith has 3 sisters.', 'Luke Smith has 3 sisters'],\n",
       " ['Ram is not a nurse.', 'Ram is not a nurse']]"
      ]
     },
     "execution_count": 25,
     "metadata": {},
     "output_type": "execute_result"
    }
   ],
   "source": [
    "# Punctuation\n",
    "ret = Perturb.perturb(pdata, Perturb.punctuation)\n",
    "ret.data[:4]"
   ]
  },
  {
   "cell_type": "code",
   "execution_count": 26,
   "metadata": {},
   "outputs": [
    {
     "data": {
      "text/plain": [
       "('John is a very smart person, he lives in Ireland.',\n",
       " 'John is  avery smart person, he lives in Ireland.')"
      ]
     },
     "execution_count": 26,
     "metadata": {},
     "output_type": "execute_result"
    }
   ],
   "source": [
    "# Typos\n",
    "data[0], Perturb.add_typos(data[0])"
   ]
  },
  {
   "cell_type": "code",
   "execution_count": 28,
   "metadata": {},
   "outputs": [
    {
     "data": {
      "text/plain": [
       "('Ram is not a nurse.', \"Ram isn't a nurse.\")"
      ]
     },
     "execution_count": 28,
     "metadata": {},
     "output_type": "execute_result"
    }
   ],
   "source": [
    "# Contractions\n",
    "data[3], Perturb.contract(data[3])"
   ]
  },
  {
   "cell_type": "code",
   "execution_count": 31,
   "metadata": {},
   "outputs": [
    {
     "data": {
      "text/plain": [
       "['What is the matter? You are not happy',\n",
       " \"What's the matter? You're not happy\"]"
      ]
     },
     "execution_count": 31,
     "metadata": {},
     "output_type": "execute_result"
    }
   ],
   "source": [
    "Perturb.contractions('What\\'s the matter? You are not happy')"
   ]
  },
  {
   "cell_type": "code",
   "execution_count": 33,
   "metadata": {},
   "outputs": [
    {
     "name": "stdout",
     "output_type": "stream",
     "text": [
      "This is not good\n",
      "This is good\n",
      "\n",
      "He didn't play the guitar\n",
      "He played the guitar\n",
      "\n",
      "He doesn't play anything\n",
      "He plays anything\n",
      "\n",
      "She wasn't sad\n",
      "She was sad\n",
      "\n"
     ]
    }
   ],
   "source": [
    "# Negation\n",
    "for t in ['This is not good', 'He didn\\'t play the guitar', 'He doesn\\'t play anything', 'She wasn\\'t sad']:\n",
    "    print(t)\n",
    "    print(Perturb.remove_negation(nlp(t)))\n",
    "    print()"
   ]
  },
  {
   "cell_type": "code",
   "execution_count": null,
   "metadata": {},
   "outputs": [],
   "source": []
  }
 ],
 "metadata": {
  "kernelspec": {
   "display_name": "Python 3",
   "language": "python",
   "name": "python3"
  },
  "language_info": {
   "codemirror_mode": {
    "name": "ipython",
    "version": 3
   },
   "file_extension": ".py",
   "mimetype": "text/x-python",
   "name": "python",
   "nbconvert_exporter": "python",
   "pygments_lexer": "ipython3",
   "version": "3.8.3"
  }
 },
 "nbformat": 4,
 "nbformat_minor": 4
}
