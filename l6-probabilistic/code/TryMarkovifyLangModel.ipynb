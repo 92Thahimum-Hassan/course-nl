{
 "cells": [
  {
   "cell_type": "code",
   "execution_count": 2,
   "metadata": {},
   "outputs": [],
   "source": [
    "## Using sample from:\n",
    "# * https://datascienceplus.com/natural-language-generation-with-markovify-in-python/\n",
    "# * https://github.com/amrrs/nlg_for_fun/blob/master/headlines_generator.ipynb\n",
    "## Markovify, https://github.com/jsvine/markovify"
   ]
  },
  {
   "cell_type": "code",
   "execution_count": 3,
   "metadata": {},
   "outputs": [
    {
     "name": "stdout",
     "output_type": "stream",
     "text": [
      "Requirement already satisfied: markovify in /Users/biplavs/opt/anaconda3/lib/python3.7/site-packages (0.8.3)\r\n",
      "Requirement already satisfied: unidecode in /Users/biplavs/opt/anaconda3/lib/python3.7/site-packages (from markovify) (1.1.1)\r\n"
     ]
    }
   ],
   "source": [
    "!pip install markovify"
   ]
  },
  {
   "cell_type": "code",
   "execution_count": 4,
   "metadata": {},
   "outputs": [],
   "source": [
    "import markovify #Markov Chain Generator"
   ]
  },
  {
   "cell_type": "code",
   "execution_count": 5,
   "metadata": {},
   "outputs": [],
   "source": [
    "# Get raw text as string.\n",
    "with open(\"../data/data-covid-law.txt\") as f:\n",
    "    text = f.read()"
   ]
  },
  {
   "cell_type": "code",
   "execution_count": 6,
   "metadata": {},
   "outputs": [],
   "source": [
    "# Building the text model with Markov Chain\n",
    "text_model1 = markovify.Text(text, state_size = 2)"
   ]
  },
  {
   "cell_type": "code",
   "execution_count": 7,
   "metadata": {},
   "outputs": [
    {
     "name": "stdout",
     "output_type": "stream",
     "text": [
      "Sentence 0: <<NOTE: 26 USC 3111 note.>> SPECIAL RULE FOR CERTAIN EMPLOYERS.\n",
      "Sentence 1: This Act, and the requirements under this section not been enacted.\n",
      "Sentence 2: DIVISION G--TAX CREDITS FOR PAID SICK LEAVE ACT OF 2020 SEC.\n",
      "Sentence 3: EMERGENCY TRANSFERS FOR UNEMPLOYMENT COMPENSATION FOR A LIMITED PERIOD.\n",
      "Sentence 4: <<NOTE: 26 USC 3111 note.>> SPECIAL RULE FOR HEALTH CARE PROVIDERS AND EMERGENCY RESPONDERS.\n",
      "Sentence 5: Notification.>> The State requires employers to provide notification of the Centers for Disease Control and Prevention.\n",
      "Sentence 6: Amounts appropriated by the Secretary of Labor.\n",
      "Sentence 7: DIVISION <<NOTE: Emergency Paid Sick Leave Act.>> --EMERGENCY FAMILY AND MEDICAL LEAVE SEC.\n",
      "Sentence 8: DIVISION <<NOTE: Emergency Paid Sick Leave Act.>> --EMERGENCY FAMILY AND MEDICAL LEAVE EXPANSION ACT SEC.\n",
      "Sentence 9: AMENDMENTS TO THE FAMILY AND MEDICAL LEAVE EXPANSION ACT SEC.\n"
     ]
    }
   ],
   "source": [
    "# Randomly generate some text - 10 here\n",
    "for i in range(10):\n",
    "    print('Sentence ' + str(i) + ': ' + text_model1.make_short_sentence(140))"
   ]
  },
  {
   "cell_type": "code",
   "execution_count": 8,
   "metadata": {},
   "outputs": [],
   "source": [
    "# Get raw text as string.\n",
    "with open(\"../data/data-agreements.txt\") as f:\n",
    "    text = f.read()"
   ]
  },
  {
   "cell_type": "code",
   "execution_count": 9,
   "metadata": {},
   "outputs": [],
   "source": [
    "# Building the text model with Markov Chain\n",
    "text_model2 = markovify.Text(text, state_size = 2)"
   ]
  },
  {
   "cell_type": "code",
   "execution_count": 10,
   "metadata": {},
   "outputs": [
    {
     "name": "stdout",
     "output_type": "stream",
     "text": [
      "Sentence 0: If this is a Substitute Check?..............................................\n",
      "Sentence 1: For CDs, the initial Interest Rate is determined in accordance with our Funds Availability Policy.\n",
      "Sentence 2: You will owe us any fees or charges.\n",
      "Sentence 3: We will usually give you provisional credit if we delay your ability to withdraw funds for any further payments.\n",
      "Sentence 4: You must tell us immediately if you are seeking to: Bureau of Financial Institutions will acknowledge receipt of any inaccuracies.\n",
      "Sentence 5: To request a certified copy of the affected Account is declined based on your part.\n",
      "Sentence 6: The power of attorney.\n",
      "Sentence 7: Third Party Carriers We may require from time to time withdraw services and replace them with others.\n",
      "Sentence 8: You can use it the same term at the end of the contents of any paid check on request, but we need not do so thereafter.\n",
      "Sentence 9: Adverse Claims; Interpleader; Legal Process We need not do so by order of any inaccuracies.\n"
     ]
    }
   ],
   "source": [
    "# Randomly generate some text - 10 here\n",
    "for i in range(10):\n",
    "    print('Sentence ' + str(i) + ': ' + text_model2.make_short_sentence(140))"
   ]
  },
  {
   "cell_type": "code",
   "execution_count": 11,
   "metadata": {},
   "outputs": [],
   "source": [
    "# One can combine models from two different domains\n",
    "model_combo = markovify.combine([ text_model1, text_model2 ], [ 1, 1 ])"
   ]
  },
  {
   "cell_type": "code",
   "execution_count": 12,
   "metadata": {},
   "outputs": [
    {
     "name": "stdout",
     "output_type": "stream",
     "text": [
      "Sentence 0: There are no errors in the use of the copyright can still be notified on the Account.\n",
      "Sentence 1: Upon receipt of your password.\n",
      "Sentence 2: You will be paid except at the time you conduct a transaction Account.\n",
      "Sentence 3: You agree that we may refuse to accept certain other items presented against your Account or Money Market Deposit Accounts.\n",
      "Sentence 4: We can also do this in our database.\n",
      "Sentence 5: If you do not own or operate.\n",
      "Sentence 6: If we decide to take away any of these fees include non-TD ATM transactions will be adjusted, if necessary, corrections.\n",
      "Sentence 7: We may exercise the right to receive the money back.\n",
      "Sentence 8: If you choose to withdraw any funds we hold or remit funds held in a form that is equal to the funds will be happy to assist you.\n",
      "Sentence 9: However, you must open a joint account, the Bank a security interest in your Account, or end the relationship.\n"
     ]
    }
   ],
   "source": [
    "# Randomly generate some text - 10 here\n",
    "for i in range(10):\n",
    "    print('Sentence ' + str(i) + ': ' + model_combo.make_short_sentence(140))"
   ]
  },
  {
   "cell_type": "code",
   "execution_count": null,
   "metadata": {},
   "outputs": [],
   "source": []
  }
 ],
 "metadata": {
  "kernelspec": {
   "display_name": "Python 3",
   "language": "python",
   "name": "python3"
  },
  "language_info": {
   "codemirror_mode": {
    "name": "ipython",
    "version": 3
   },
   "file_extension": ".py",
   "mimetype": "text/x-python",
   "name": "python",
   "nbconvert_exporter": "python",
   "pygments_lexer": "ipython3",
   "version": "3.7.6"
  }
 },
 "nbformat": 4,
 "nbformat_minor": 2
}
