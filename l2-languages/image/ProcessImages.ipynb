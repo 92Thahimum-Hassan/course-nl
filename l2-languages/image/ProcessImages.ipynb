{
 "cells": [
  {
   "cell_type": "code",
   "execution_count": 14,
   "metadata": {},
   "outputs": [],
   "source": [
    "# Main function\n",
    "from PIL import Image, ImageFilter\n",
    "%matplotlib inline"
   ]
  },
  {
   "cell_type": "code",
   "execution_count": 15,
   "metadata": {},
   "outputs": [
    {
     "name": "stdout",
     "output_type": "stream",
     "text": [
      "Welcome. Please choose one of these three animals: Dolphin, Fox, or Owl\n",
      "Enter your chosen animal: dolphin\n",
      "you chose: dolphin\n"
     ]
    }
   ],
   "source": [
    "print('Welcome. Please choose one of these three animals: Dolphin, Fox, or Owl')\n",
    "i = input('Enter your chosen animal: ')\n",
    "print ('you chose:', i)"
   ]
  },
  {
   "cell_type": "code",
   "execution_count": 16,
   "metadata": {},
   "outputs": [],
   "source": [
    "def show(image):\n",
    "    im = Image.open(image)\n",
    "    im.show()"
   ]
  },
  {
   "cell_type": "code",
   "execution_count": 17,
   "metadata": {},
   "outputs": [],
   "source": [
    "datadir = \"../data/\""
   ]
  },
  {
   "cell_type": "code",
   "execution_count": 18,
   "metadata": {},
   "outputs": [],
   "source": [
    "if i == 'fox':\n",
    "    show(datadir + 'fox.jpg')\n",
    "\n",
    "elif i == 'dolphin':\n",
    "    show(datadir + 'dolphin.jpg')\n",
    "    \n",
    "elif i == 'owl':\n",
    "    show(datadir + 'owl.jpg')\n",
    "    \n",
    "else:\n",
    "    print('Sorry, this is an error')"
   ]
  },
  {
   "cell_type": "code",
   "execution_count": null,
   "metadata": {},
   "outputs": [],
   "source": []
  }
 ],
 "metadata": {
  "kernelspec": {
   "display_name": "Python 3",
   "language": "python",
   "name": "python3"
  },
  "language_info": {
   "codemirror_mode": {
    "name": "ipython",
    "version": 3
   },
   "file_extension": ".py",
   "mimetype": "text/x-python",
   "name": "python",
   "nbconvert_exporter": "python",
   "pygments_lexer": "ipython3",
   "version": "3.7.6"
  }
 },
 "nbformat": 4,
 "nbformat_minor": 2
}
