{
 "cells": [
  {
   "cell_type": "markdown",
   "metadata": {},
   "source": [
    "# Based on Lesson 1"
   ]
  },
  {
   "cell_type": "code",
   "execution_count": 1,
   "metadata": {},
   "outputs": [],
   "source": [
    "# Setup and define function for parsing\n",
    "from tika import parser\n",
    "def convertPdf2TxtWithTika(in_pdf_file, out_text_file):\n",
    "    # Load a file and extract information\n",
    "    print (\"INFO: - reading file = \" + in_pdf_file)\n",
    "    \n",
    "    raw = parser.from_file(in_pdf_file)\n",
    "    text = raw['content']\n",
    "    \n",
    "    ## Post-processing explained at: \n",
    "    # https://medium.com/@justinboylantoomey/fast-text-extraction-with-python-and-tika-41ac34b0fe61\n",
    "    # Convert to string\n",
    "    text = str(text)\n",
    "    # Ensure text is utf-8 formatted\n",
    "    safe_text = text.encode('utf-8', errors='ignore')\n",
    "    # Escape any \\ issues\n",
    "    safe_text = str(safe_text).replace('\\\\n', ' ')\n",
    "    safe_text = str(safe_text).strip()\n",
    "    \n",
    "    # Write out extracted content\n",
    "    text_pdf = open(out_text_file, 'w')\n",
    "    print (\"INFO: - writing file = \" + out_text_file)\n",
    "    text_pdf.write(text)\n",
    "    text_pdf.close()\n",
    "    return safe_text"
   ]
  },
  {
   "cell_type": "code",
   "execution_count": 2,
   "metadata": {},
   "outputs": [
    {
     "name": "stdout",
     "output_type": "stream",
     "text": [
      "INFO: processing file = Example-Frontiers-Terms and Conditions.pdf\n",
      "INFO: - in = ../data/legal/Example-Frontiers-Terms and Conditions.pdf, out = ../data/legal/Example-Frontiers-Terms and Conditions.txt\n",
      "INFO: - reading file = ../data/legal/Example-Frontiers-Terms and Conditions.pdf\n",
      "INFO: - writing file = ../data/legal/Example-Frontiers-Terms and Conditions.txt\n",
      "INFO: processing file = Example-MyADT-Terms.pdf\n",
      "INFO: - in = ../data/legal/Example-MyADT-Terms.pdf, out = ../data/legal/Example-MyADT-Terms.txt\n",
      "INFO: - reading file = ../data/legal/Example-MyADT-Terms.pdf\n",
      "INFO: - writing file = ../data/legal/Example-MyADT-Terms.txt\n",
      "INFO: processing file = Example-TDBank-PersonalAcctAgree.pdf\n",
      "INFO: - in = ../data/legal/Example-TDBank-PersonalAcctAgree.pdf, out = ../data/legal/Example-TDBank-PersonalAcctAgree.txt\n",
      "INFO: - reading file = ../data/legal/Example-TDBank-PersonalAcctAgree.pdf\n",
      "INFO: - writing file = ../data/legal/Example-TDBank-PersonalAcctAgree.txt\n",
      "INFO: processed total files = 3\n",
      "INFO: see contents in file = ../data/legal/all_contents.txt\n"
     ]
    }
   ],
   "source": [
    "# Find pdf files in a directory and process its content\n",
    "import glob\n",
    "\n",
    "txtfiles = []\n",
    "inpath = '../data/legal/'\n",
    "outpath = '../data/legal/'\n",
    "count = 0\n",
    "all_contents = \"\"\n",
    "for file in glob.glob(inpath + '*.pdf'):\n",
    "    justfile = os.path.basename(file)\n",
    "    justfile = justfile.replace(\".pdf\",\"\")\n",
    "    print('INFO: processing file = ' + os.path.basename(file))\n",
    "    output_file = outpath + justfile + '.txt'\n",
    "    print('INFO: - in = ' + file + ', out = ' + output_file)\n",
    "    result_text = convertPdf2TxtWithTika(file, output_file)\n",
    "    all_contents = all_contents + result_text \n",
    "    count = count + 1\n",
    "print('INFO: processed total files = ' + str(count))\n",
    "all_contents_file_name = outpath + \"all_contents.txt\"\n",
    "all_text_file = open(all_contents_file_name, 'w')\n",
    "all_text_file.write(all_contents)\n",
    "all_text_file.close()\n",
    "print('INFO: see contents in file = ' + all_contents_file_name)"
   ]
  },
  {
   "cell_type": "code",
   "execution_count": null,
   "metadata": {},
   "outputs": [],
   "source": []
  }
 ],
 "metadata": {
  "kernelspec": {
   "display_name": "Python 3",
   "language": "python",
   "name": "python3"
  },
  "language_info": {
   "codemirror_mode": {
    "name": "ipython",
    "version": 3
   },
   "file_extension": ".py",
   "mimetype": "text/x-python",
   "name": "python",
   "nbconvert_exporter": "python",
   "pygments_lexer": "ipython3",
   "version": "3.7.6"
  }
 },
 "nbformat": 4,
 "nbformat_minor": 4
}
